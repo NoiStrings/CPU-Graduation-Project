{
 "cells": [
  {
   "cell_type": "code",
   "execution_count": null,
   "metadata": {
    "colab": {
     "base_uri": "https://localhost:8080/"
    },
    "id": "smOMgYdI2uk3",
    "outputId": "b2819ba5-84c8-4b06-b736-7fae688445f4"
   },
   "outputs": [],
   "source": [
    "'''from google.colab import drive\n",
    "drive.mount('/content/drive', force_remount=False)'''"
   ]
  },
  {
   "cell_type": "code",
   "execution_count": null,
   "metadata": {
    "colab": {
     "base_uri": "https://localhost:8080/"
    },
    "id": "PEcUXhfB3YZ-",
    "outputId": "f1f271c8-0218-4d1c-bd4f-bb1326e5086b"
   },
   "outputs": [],
   "source": [
    "!git clone https://github.com/NoiStrings/CPU-Graduation-Project.git"
   ]
  },
  {
   "cell_type": "code",
   "execution_count": null,
   "metadata": {
    "id": "khMHV1Mq87AK"
   },
   "outputs": [],
   "source": [
    "'''!mkdir ./dataset\n",
    "!cp /content/drive/MyDrive/OACC/dataset/dataset.zip ./\n",
    "!unzip ./dataset.zip -d ./dataset/\n",
    "!rm -rf ./dataset.zip'''"
   ]
  },
  {
   "cell_type": "code",
   "execution_count": null,
   "metadata": {
    "id": "2owd6NOEBO6c"
   },
   "outputs": [],
   "source": [
    "'''!rm -rf logs\n",
    "!ln -s /content/drive/MyDrive/OACC/logs logs\n",
    "!rm -rf models\n",
    "!ln -s /content/drive/MyDrive/OACC/models models'''"
   ]
  },
  {
   "cell_type": "code",
   "execution_count": null,
   "metadata": {
    "colab": {
     "base_uri": "https://localhost:8080/"
    },
    "id": "-YvAEqTgGhj0",
    "outputId": "169c54c2-fba9-4c76-edb3-ad750f2eecc1"
   },
   "outputs": [],
   "source": [
    "!pip install einops\n",
    "!pip install easydict\n",
    "!pip install imgaug"
   ]
  },
  {
   "cell_type": "code",
   "execution_count": null,
   "metadata": {
    "colab": {
     "base_uri": "https://localhost:8080/"
    },
    "id": "ICaPWTlLGSkl",
    "outputId": "bb99fd36-56d8-4604-88d6-9755ed738f61"
   },
   "outputs": [],
   "source": [
    "!python /home/featurize/CPU-Graduation-Project/train.py"
   ]
  }
 ],
 "metadata": {
  "accelerator": "GPU",
  "colab": {
   "gpuType": "T4",
   "provenance": []
  },
  "kernelspec": {
   "display_name": "Python 3 (ipykernel)",
   "language": "python",
   "name": "python3"
  },
  "language_info": {
   "codemirror_mode": {
    "name": "ipython",
    "version": 3
   },
   "file_extension": ".py",
   "mimetype": "text/x-python",
   "name": "python",
   "nbconvert_exporter": "python",
   "pygments_lexer": "ipython3",
   "version": "3.10.12"
  }
 },
 "nbformat": 4,
 "nbformat_minor": 4
}
